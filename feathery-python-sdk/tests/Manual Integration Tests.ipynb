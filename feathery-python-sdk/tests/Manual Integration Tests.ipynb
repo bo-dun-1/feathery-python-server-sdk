{
 "cells": [
  {
   "cell_type": "code",
   "execution_count": 1,
   "metadata": {},
   "outputs": [],
   "source": [
    "import feathery\n",
    "\n"
   ]
  },
  {
   "cell_type": "code",
   "execution_count": 2,
   "metadata": {},
   "outputs": [
    {
     "name": "stdout",
     "output_type": "stream",
     "text": [
      "[{'value': False, 'datatype': 'boolean', 'key': 'pref_outgroup', 'overrides': [{'user_key': 'jill@staples.com', 'user_value': False}, {'user_key': '0', 'user_value': False}, {'user_key': 'bob@staples.com', 'user_value': False}, {'user_key': '15', 'user_value': False}, {'user_key': 'emily@catalyst.com', 'user_value': False}, {'user_key': '3', 'user_value': False}, {'user_key': '56', 'user_value': False}]}, {'value': 7, 'datatype': 'int', 'key': 'discount_percent', 'overrides': [{'user_key': 'jill@staples.com', 'user_value': 5}, {'user_key': '0', 'user_value': 5}, {'user_key': 'bob@staples.com', 'user_value': 5}]}, {'value': '10 4 * * *', 'datatype': 'string', 'key': 'soft_update_freq', 'overrides': []}, {'value': '5 4 * * 1', 'datatype': 'string', 'key': 'hard_update_freq', 'overrides': []}, {'value': 12, 'datatype': 'int', 'key': 'min_profit_margin_expected', 'overrides': [{'user_key': 'bob@staples.com', 'user_value': 22}, {'user_key': '15', 'user_value': 30}, {'user_key': 'emily@catalyst.com', 'user_value': 30}, {'user_key': '3', 'user_value': 30}, {'user_key': '56', 'user_value': 30}]}, {'value': '000000', 'datatype': 'string', 'key': 'dashboard_color', 'overrides': []}]\n",
      "{'pref_outgroup': {'value': False, 'datatype': 'boolean', 'overrides': {'jill@staples.com': False, '0': False, 'bob@staples.com': False, '15': False, 'emily@catalyst.com': False, '3': False, '56': False}}, 'discount_percent': {'value': 7, 'datatype': 'int', 'overrides': {'jill@staples.com': 5, '0': 5, 'bob@staples.com': 5}}, 'soft_update_freq': {'value': '10 4 * * *', 'datatype': 'string', 'overrides': {}}, 'hard_update_freq': {'value': '5 4 * * 1', 'datatype': 'string', 'overrides': {}}, 'min_profit_margin_expected': {'value': 12, 'datatype': 'int', 'overrides': {'bob@staples.com': 22, '15': 30, 'emily@catalyst.com': 30, '3': 30, '56': 30}}, 'dashboard_color': {'value': '000000', 'datatype': 'string', 'overrides': {}}}\n"
     ]
    }
   ],
   "source": [
    "feathery.set_sdk_key(\"ae33f899-e913-4e10-9fe7-c229931a382b\")"
   ]
  },
  {
   "cell_type": "code",
   "execution_count": 3,
   "metadata": {},
   "outputs": [],
   "source": [
    "client = feathery.get()"
   ]
  },
  {
   "cell_type": "code",
   "execution_count": 4,
   "metadata": {},
   "outputs": [
    {
     "name": "stdout",
     "output_type": "stream",
     "text": [
      "acquired\n"
     ]
    },
    {
     "data": {
      "text/plain": [
       "False"
      ]
     },
     "execution_count": 4,
     "metadata": {},
     "output_type": "execute_result"
    }
   ],
   "source": [
    "client.variation(\"pref_outgroup\", True, \"jll@staples.com\")"
   ]
  },
  {
   "cell_type": "code",
   "execution_count": 5,
   "metadata": {},
   "outputs": [],
   "source": [
    "# Real setting, fake user"
   ]
  },
  {
   "cell_type": "code",
   "execution_count": 6,
   "metadata": {},
   "outputs": [],
   "source": [
    "# Fake setting, real user"
   ]
  },
  {
   "cell_type": "code",
   "execution_count": 7,
   "metadata": {},
   "outputs": [],
   "source": [
    "# Real setting, real user"
   ]
  },
  {
   "cell_type": "code",
   "execution_count": 11,
   "metadata": {},
   "outputs": [
    {
     "name": "stdout",
     "output_type": "stream",
     "text": [
      "acquired\n",
      "False\n",
      "acquired\n",
      "True\n"
     ]
    }
   ],
   "source": [
    "# Fake setting, fake user\n",
    "\n",
    "print(client.variation(\"fakefake\", False, \"fake@staples.com\"))\n",
    "print(client.variation(\"fakefake\", True, \"fake@staples.com\"))"
   ]
  },
  {
   "cell_type": "code",
   "execution_count": null,
   "metadata": {},
   "outputs": [],
   "source": []
  }
 ],
 "metadata": {
  "kernelspec": {
   "display_name": "Python 3",
   "language": "python",
   "name": "python3"
  },
  "language_info": {
   "codemirror_mode": {
    "name": "ipython",
    "version": 3
   },
   "file_extension": ".py",
   "mimetype": "text/x-python",
   "name": "python",
   "nbconvert_exporter": "python",
   "pygments_lexer": "ipython3",
   "version": "3.7.2"
  }
 },
 "nbformat": 4,
 "nbformat_minor": 2
}
